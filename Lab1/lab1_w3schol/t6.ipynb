{
 "cells": [
  {
   "cell_type": "markdown",
   "metadata": {},
   "source": [
    "topic: Python Data Types"
   ]
  },
  {
   "cell_type": "markdown",
   "metadata": {},
   "source": [
    "Getting the Data Type:"
   ]
  },
  {
   "cell_type": "code",
   "execution_count": 1,
   "metadata": {},
   "outputs": [
    {
     "name": "stdout",
     "output_type": "stream",
     "text": [
      "<class 'int'>\n"
     ]
    }
   ],
   "source": [
    "x = 5\n",
    "print(type(x))"
   ]
  },
  {
   "cell_type": "markdown",
   "metadata": {},
   "source": [
    "Setting the Data Type:"
   ]
  },
  {
   "cell_type": "code",
   "execution_count": null,
   "metadata": {},
   "outputs": [],
   "source": [
    "x = \"Hello World\"\t#str\n",
    "x = 20\t            #int\n",
    "x = 20.5\t        #float\n",
    "x = 1j\t\t        #complex\n",
    "x = [\"apple\", \"banana\", \"cherry\"]\t#list\t\n",
    "x = (\"apple\", \"banana\", \"cherry\")   #tuple\n",
    "x = range(6)    #range\n",
    "x = {\"name\" : \"John\", \"age\" : 36}\t#dict\t\n",
    "x = {\"apple\", \"banana\", \"cherry\"}\t#set\t\n",
    "x = frozenset({\"apple\", \"banana\", \"cherry\"})\t#frozenset\t\n",
    "x = True\t#bool\t\n",
    "x = b\"Hello\"\t#bytes\t\n",
    "x = bytearray(5)\t#bytearray\t\n",
    "x = memoryview(bytes(5))\t#memoryview\n",
    "x = None\t#NoneType"
   ]
  },
  {
   "cell_type": "markdown",
   "metadata": {},
   "source": [
    "Setting the Specific Data Type:"
   ]
  },
  {
   "cell_type": "code",
   "execution_count": null,
   "metadata": {},
   "outputs": [],
   "source": [
    "x = str(\"Hello World\")\t#str\t\n",
    "x = int(20)\t#int\t\n",
    "x = float(20.5)\t#float\t\n",
    "x = complex(1j)\t#complex\t\n",
    "x = list((\"apple\", \"banana\", \"cherry\"))\t#list\t\n",
    "x = tuple((\"apple\", \"banana\", \"cherry\"))\t#tuple\n",
    "x = range(6)\t#range\t\n",
    "x = dict(name=\"John\", age=36)\t#dict\t\n",
    "x = set((\"apple\", \"banana\", \"cherry\"))\t#set\t\n",
    "x = frozenset((\"apple\", \"banana\", \"cherry\"))\t#frozenset\t\n",
    "x = bool(5)\t#bool\t\n",
    "x = bytes(5)\t#bytes\t\n",
    "x = bytearray(5)\t#bytearray\t\n",
    "x = memoryview(bytes(5))\t#memoryview"
   ]
  }
 ],
 "metadata": {
  "kernelspec": {
   "display_name": "Python 3",
   "language": "python",
   "name": "python3"
  },
  "language_info": {
   "codemirror_mode": {
    "name": "ipython",
    "version": 3
   },
   "file_extension": ".py",
   "mimetype": "text/x-python",
   "name": "python",
   "nbconvert_exporter": "python",
   "pygments_lexer": "ipython3",
   "version": "3.9.6"
  }
 },
 "nbformat": 4,
 "nbformat_minor": 2
}
