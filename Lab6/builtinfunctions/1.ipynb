{
 "cells": [
  {
   "cell_type": "code",
   "execution_count": null,
   "metadata": {},
   "outputs": [],
   "source": [
    "import math\n",
    "\n",
    "def multiply_nums(list):\n",
    "    return math.prod(list)\n",
    "\n",
    "the_list = [12,2,3,4,5,6,7]\n",
    "print(multiply_nums(the_list))"
   ]
  }
 ],
 "metadata": {
  "language_info": {
   "name": "python"
  }
 },
 "nbformat": 4,
 "nbformat_minor": 2
}
