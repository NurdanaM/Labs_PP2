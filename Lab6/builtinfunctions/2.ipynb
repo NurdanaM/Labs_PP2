{
 "cells": [
  {
   "cell_type": "code",
   "execution_count": null,
   "metadata": {},
   "outputs": [],
   "source": [
    "import math\n",
    "def up_low_count(s):\n",
    "    upperCount = sum(1 for c in s if c.isupper())\n",
    "    lowerCount = sum(1 for c in s if c.islower())\n",
    "    print(\"The number of upper case letters: \", upperCount)\n",
    "    print(\"The number of lower case letters: \", lowerCount)\n",
    "\n",
    "word = input(\"Enter the string: \")\n",
    "up_low_count(word)"
   ]
  }
 ],
 "metadata": {
  "language_info": {
   "name": "python"
  }
 },
 "nbformat": 4,
 "nbformat_minor": 2
}
